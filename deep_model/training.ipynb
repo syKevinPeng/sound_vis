{
 "cells": [
  {
   "cell_type": "code",
   "execution_count": 9,
   "metadata": {},
   "outputs": [],
   "source": [
    "# !wget http://opihi.cs.uvic.ca/sound/genres.tar.gz\n",
    "# !tar -zxvf genres.tar.gz\n",
    "# !wget https://raw.githubusercontent.com/coreyker/dnn-mgr/master/gtzan/train_filtered.txt\n",
    "# !wget https://raw.githubusercontent.com/coreyker/dnn-mgr/master/gtzan/valid_filtered.txt\n",
    "# !wget https://raw.githubusercontent.com/coreyker/dnn-mgr/master/gtzan/test_filtered.txt"
   ]
  },
  {
   "cell_type": "code",
   "execution_count": 10,
   "metadata": {},
   "outputs": [],
   "source": [
    "import os\n",
    "import random\n",
    "import torch\n",
    "import numpy as np\n",
    "import soundfile as sf\n",
    "from torch.utils import data\n",
    "\n",
    "\n",
    "GTZAN_GENRES = ['blues', 'classical', 'country', 'disco', 'hiphop', 'jazz', 'metal', 'pop', 'reggae', 'rock']\n",
    "DATA_PATH = '/home/siyuan/class/cmsc734/sound_vis/music-genre-classification/my_work/Data'\n",
    "\n",
    "class GTZANDataset(data.Dataset):\n",
    "    def __init__(self, data_path, split, num_samples, num_chunks, is_augmentation):\n",
    "        self.data_path =  data_path if data_path else ''\n",
    "        self.split = split\n",
    "        self.num_samples = num_samples\n",
    "        self.num_chunks = num_chunks\n",
    "        self.genres = GTZAN_GENRES\n",
    "        self._get_song_list()\n",
    "\n",
    "    def _get_song_list(self):\n",
    "        list_filename = os.path.join(self.data_path, '%s_filtered.txt' % self.split)\n",
    "        if not os.path.exists(list_filename):\n",
    "            raise Exception('Cannot find %s list file.' % self.split)\n",
    "        with open(list_filename) as f:\n",
    "            lines = f.readlines()\n",
    "        self.song_list = [line.strip() for line in lines]\n",
    "\n",
    "\n",
    "    def _adjust_audio_length(self, wav):\n",
    "        if self.split == 'train':\n",
    "            random_index = random.randint(0, len(wav) - self.num_samples - 1)\n",
    "            wav = wav[random_index : random_index + self.num_samples]\n",
    "        else:\n",
    "            hop = (len(wav) - self.num_samples) // self.num_chunks\n",
    "            wav = np.array([wav[i * hop : i * hop + self.num_samples] for i in range(self.num_chunks)])\n",
    "        return wav\n",
    "\n",
    "    def __getitem__(self, index):\n",
    "        line = self.song_list[index]\n",
    "\n",
    "        # get genre\n",
    "        genre_name = line.split('/')[0]\n",
    "        genre_index = self.genres.index(genre_name)\n",
    "\n",
    "        # get audio\n",
    "        audio_filename = os.path.join(self.data_path, 'genres', line)\n",
    "        wav, fs = sf.read(audio_filename)\n",
    "\n",
    "        # adjust audio length\n",
    "        wav = self._adjust_audio_length(wav).astype('float32')\n",
    "\n",
    "\n",
    "        return wav, genre_index\n",
    "\n",
    "    def __len__(self):\n",
    "        return len(self.song_list)\n",
    "\n",
    "def get_dataloader(data_path=None, \n",
    "                   split='train', \n",
    "                   num_samples=22050 * 29, \n",
    "                   num_chunks=1, \n",
    "                   batch_size=16, \n",
    "                   num_workers=0, \n",
    "                   is_augmentation=False):\n",
    "    is_shuffle = True if (split == 'train') else False\n",
    "    batch_size = batch_size if (split == 'train') else (batch_size // num_chunks)\n",
    "    data_loader = data.DataLoader(dataset=GTZANDataset(data_path, \n",
    "                                                       split, \n",
    "                                                       num_samples, \n",
    "                                                       num_chunks, \n",
    "                                                       is_augmentation),\n",
    "                                  batch_size=batch_size,\n",
    "                                  shuffle=is_shuffle,\n",
    "                                  drop_last=False,\n",
    "                                  num_workers=num_workers)\n",
    "    return data_loader"
   ]
  },
  {
   "cell_type": "code",
   "execution_count": 11,
   "metadata": {},
   "outputs": [
    {
     "name": "stdout",
     "output_type": "stream",
     "text": [
      "/home/siyuan/class/cmsc734/sound_vis/music-genre-classification/my_work/Data\n"
     ]
    },
    {
     "ename": "ZeroDivisionError",
     "evalue": "division by zero",
     "output_type": "error",
     "traceback": [
      "\u001b[0;31m---------------------------------------------------------------------------\u001b[0m",
      "\u001b[0;31mZeroDivisionError\u001b[0m                         Traceback (most recent call last)",
      "\u001b[1;32m/home/siyuan/class/cmsc734/sound_vis/music-genre-classification/my_work/training.ipynb Cell 3\u001b[0m line \u001b[0;36m1\n\u001b[0;32m----> <a href='vscode-notebook-cell://ssh-remote%2Bworkstation/home/siyuan/class/cmsc734/sound_vis/music-genre-classification/my_work/training.ipynb#W2sdnNjb2RlLXJlbW90ZQ%3D%3D?line=0'>1</a>\u001b[0m train_loader \u001b[39m=\u001b[39m get_dataloader(data_path \u001b[39m=\u001b[39;49m DATA_PATH, split\u001b[39m=\u001b[39;49m\u001b[39m'\u001b[39;49m\u001b[39mtrain\u001b[39;49m\u001b[39m'\u001b[39;49m, is_augmentation\u001b[39m=\u001b[39;49m\u001b[39mFalse\u001b[39;49;00m)\n\u001b[1;32m      <a href='vscode-notebook-cell://ssh-remote%2Bworkstation/home/siyuan/class/cmsc734/sound_vis/music-genre-classification/my_work/training.ipynb#W2sdnNjb2RlLXJlbW90ZQ%3D%3D?line=1'>2</a>\u001b[0m iter_train_loader \u001b[39m=\u001b[39m \u001b[39miter\u001b[39m(train_loader)\n\u001b[1;32m      <a href='vscode-notebook-cell://ssh-remote%2Bworkstation/home/siyuan/class/cmsc734/sound_vis/music-genre-classification/my_work/training.ipynb#W2sdnNjb2RlLXJlbW90ZQ%3D%3D?line=2'>3</a>\u001b[0m train_wav, train_genre \u001b[39m=\u001b[39m \u001b[39mnext\u001b[39m(iter_train_loader)\n",
      "\u001b[1;32m/home/siyuan/class/cmsc734/sound_vis/music-genre-classification/my_work/training.ipynb Cell 3\u001b[0m line \u001b[0;36m6\n\u001b[1;32m     <a href='vscode-notebook-cell://ssh-remote%2Bworkstation/home/siyuan/class/cmsc734/sound_vis/music-genre-classification/my_work/training.ipynb#W2sdnNjb2RlLXJlbW90ZQ%3D%3D?line=65'>66</a>\u001b[0m is_shuffle \u001b[39m=\u001b[39m \u001b[39mTrue\u001b[39;00m \u001b[39mif\u001b[39;00m (split \u001b[39m==\u001b[39m \u001b[39m'\u001b[39m\u001b[39mtrain\u001b[39m\u001b[39m'\u001b[39m) \u001b[39melse\u001b[39;00m \u001b[39mFalse\u001b[39;00m\n\u001b[1;32m     <a href='vscode-notebook-cell://ssh-remote%2Bworkstation/home/siyuan/class/cmsc734/sound_vis/music-genre-classification/my_work/training.ipynb#W2sdnNjb2RlLXJlbW90ZQ%3D%3D?line=66'>67</a>\u001b[0m batch_size \u001b[39m=\u001b[39m batch_size \u001b[39mif\u001b[39;00m (split \u001b[39m==\u001b[39m \u001b[39m'\u001b[39m\u001b[39mtrain\u001b[39m\u001b[39m'\u001b[39m) \u001b[39melse\u001b[39;00m (batch_size \u001b[39m/\u001b[39m\u001b[39m/\u001b[39m num_chunks)\n\u001b[0;32m---> <a href='vscode-notebook-cell://ssh-remote%2Bworkstation/home/siyuan/class/cmsc734/sound_vis/music-genre-classification/my_work/training.ipynb#W2sdnNjb2RlLXJlbW90ZQ%3D%3D?line=67'>68</a>\u001b[0m data_loader \u001b[39m=\u001b[39m data\u001b[39m.\u001b[39mDataLoader(dataset\u001b[39m=\u001b[39mGTZANDataset(data_path, \n\u001b[1;32m     <a href='vscode-notebook-cell://ssh-remote%2Bworkstation/home/siyuan/class/cmsc734/sound_vis/music-genre-classification/my_work/training.ipynb#W2sdnNjb2RlLXJlbW90ZQ%3D%3D?line=68'>69</a>\u001b[0m                                                    split, \n\u001b[1;32m     <a href='vscode-notebook-cell://ssh-remote%2Bworkstation/home/siyuan/class/cmsc734/sound_vis/music-genre-classification/my_work/training.ipynb#W2sdnNjb2RlLXJlbW90ZQ%3D%3D?line=69'>70</a>\u001b[0m                                                    num_samples, \n\u001b[1;32m     <a href='vscode-notebook-cell://ssh-remote%2Bworkstation/home/siyuan/class/cmsc734/sound_vis/music-genre-classification/my_work/training.ipynb#W2sdnNjb2RlLXJlbW90ZQ%3D%3D?line=70'>71</a>\u001b[0m                                                    num_chunks, \n\u001b[1;32m     <a href='vscode-notebook-cell://ssh-remote%2Bworkstation/home/siyuan/class/cmsc734/sound_vis/music-genre-classification/my_work/training.ipynb#W2sdnNjb2RlLXJlbW90ZQ%3D%3D?line=71'>72</a>\u001b[0m                                                    is_augmentation),\n\u001b[1;32m     <a href='vscode-notebook-cell://ssh-remote%2Bworkstation/home/siyuan/class/cmsc734/sound_vis/music-genre-classification/my_work/training.ipynb#W2sdnNjb2RlLXJlbW90ZQ%3D%3D?line=72'>73</a>\u001b[0m                               batch_size\u001b[39m=\u001b[39mbatch_size,\n\u001b[1;32m     <a href='vscode-notebook-cell://ssh-remote%2Bworkstation/home/siyuan/class/cmsc734/sound_vis/music-genre-classification/my_work/training.ipynb#W2sdnNjb2RlLXJlbW90ZQ%3D%3D?line=73'>74</a>\u001b[0m                               shuffle\u001b[39m=\u001b[39mis_shuffle,\n\u001b[1;32m     <a href='vscode-notebook-cell://ssh-remote%2Bworkstation/home/siyuan/class/cmsc734/sound_vis/music-genre-classification/my_work/training.ipynb#W2sdnNjb2RlLXJlbW90ZQ%3D%3D?line=74'>75</a>\u001b[0m                               drop_last\u001b[39m=\u001b[39m\u001b[39mFalse\u001b[39;00m,\n\u001b[1;32m     <a href='vscode-notebook-cell://ssh-remote%2Bworkstation/home/siyuan/class/cmsc734/sound_vis/music-genre-classification/my_work/training.ipynb#W2sdnNjb2RlLXJlbW90ZQ%3D%3D?line=75'>76</a>\u001b[0m                               num_workers\u001b[39m=\u001b[39mnum_workers)\n\u001b[1;32m     <a href='vscode-notebook-cell://ssh-remote%2Bworkstation/home/siyuan/class/cmsc734/sound_vis/music-genre-classification/my_work/training.ipynb#W2sdnNjb2RlLXJlbW90ZQ%3D%3D?line=76'>77</a>\u001b[0m \u001b[39mreturn\u001b[39;00m data_loader\n",
      "\u001b[1;32m/home/siyuan/class/cmsc734/sound_vis/music-genre-classification/my_work/training.ipynb Cell 3\u001b[0m line \u001b[0;36m1\n\u001b[1;32m     <a href='vscode-notebook-cell://ssh-remote%2Bworkstation/home/siyuan/class/cmsc734/sound_vis/music-genre-classification/my_work/training.ipynb#W2sdnNjb2RlLXJlbW90ZQ%3D%3D?line=16'>17</a>\u001b[0m \u001b[39mself\u001b[39m\u001b[39m.\u001b[39mnum_chunks \u001b[39m=\u001b[39m num_chunks\n\u001b[1;32m     <a href='vscode-notebook-cell://ssh-remote%2Bworkstation/home/siyuan/class/cmsc734/sound_vis/music-genre-classification/my_work/training.ipynb#W2sdnNjb2RlLXJlbW90ZQ%3D%3D?line=17'>18</a>\u001b[0m \u001b[39mself\u001b[39m\u001b[39m.\u001b[39mgenres \u001b[39m=\u001b[39m GTZAN_GENRES\n\u001b[0;32m---> <a href='vscode-notebook-cell://ssh-remote%2Bworkstation/home/siyuan/class/cmsc734/sound_vis/music-genre-classification/my_work/training.ipynb#W2sdnNjb2RlLXJlbW90ZQ%3D%3D?line=18'>19</a>\u001b[0m \u001b[39mself\u001b[39;49m\u001b[39m.\u001b[39;49m_get_song_list()\n",
      "\u001b[1;32m/home/siyuan/class/cmsc734/sound_vis/music-genre-classification/my_work/training.ipynb Cell 3\u001b[0m line \u001b[0;36m2\n\u001b[1;32m     <a href='vscode-notebook-cell://ssh-remote%2Bworkstation/home/siyuan/class/cmsc734/sound_vis/music-genre-classification/my_work/training.ipynb#W2sdnNjb2RlLXJlbW90ZQ%3D%3D?line=20'>21</a>\u001b[0m \u001b[39mdef\u001b[39;00m \u001b[39m_get_song_list\u001b[39m(\u001b[39mself\u001b[39m):\n\u001b[1;32m     <a href='vscode-notebook-cell://ssh-remote%2Bworkstation/home/siyuan/class/cmsc734/sound_vis/music-genre-classification/my_work/training.ipynb#W2sdnNjb2RlLXJlbW90ZQ%3D%3D?line=21'>22</a>\u001b[0m     \u001b[39mprint\u001b[39m(\u001b[39mself\u001b[39m\u001b[39m.\u001b[39mdata_path)\n\u001b[0;32m---> <a href='vscode-notebook-cell://ssh-remote%2Bworkstation/home/siyuan/class/cmsc734/sound_vis/music-genre-classification/my_work/training.ipynb#W2sdnNjb2RlLXJlbW90ZQ%3D%3D?line=22'>23</a>\u001b[0m     \u001b[39m0\u001b[39;49m\u001b[39m/\u001b[39;49m\u001b[39m0\u001b[39;49m\n\u001b[1;32m     <a href='vscode-notebook-cell://ssh-remote%2Bworkstation/home/siyuan/class/cmsc734/sound_vis/music-genre-classification/my_work/training.ipynb#W2sdnNjb2RlLXJlbW90ZQ%3D%3D?line=23'>24</a>\u001b[0m     list_filename \u001b[39m=\u001b[39m os\u001b[39m.\u001b[39mpath\u001b[39m.\u001b[39mjoin(\u001b[39mself\u001b[39m\u001b[39m.\u001b[39mdata_path, \u001b[39m'\u001b[39m\u001b[39m%s\u001b[39;00m\u001b[39m_filtered.txt\u001b[39m\u001b[39m'\u001b[39m \u001b[39m%\u001b[39m \u001b[39mself\u001b[39m\u001b[39m.\u001b[39msplit)\n\u001b[1;32m     <a href='vscode-notebook-cell://ssh-remote%2Bworkstation/home/siyuan/class/cmsc734/sound_vis/music-genre-classification/my_work/training.ipynb#W2sdnNjb2RlLXJlbW90ZQ%3D%3D?line=24'>25</a>\u001b[0m     \u001b[39mwith\u001b[39;00m \u001b[39mopen\u001b[39m(list_filename) \u001b[39mas\u001b[39;00m f:\n",
      "\u001b[0;31mZeroDivisionError\u001b[0m: division by zero"
     ]
    }
   ],
   "source": [
    "train_loader = get_dataloader(data_path = DATA_PATH, split='train', is_augmentation=False)\n",
    "iter_train_loader = iter(train_loader)\n",
    "train_wav, train_genre = next(iter_train_loader)\n",
    "\n",
    "valid_loader = get_dataloader(data_path = DATA_PATH,split='valid')\n",
    "test_loader = get_dataloader(split='test')\n",
    "iter_test_loader = iter(test_loader)\n",
    "test_wav, test_genre = next(iter_test_loader)\n",
    "print('training data shape: %s' % str(train_wav.shape))\n",
    "print('validation/test data shape: %s' % str(test_wav.shape))\n",
    "print(train_genre)"
   ]
  },
  {
   "cell_type": "code",
   "execution_count": null,
   "metadata": {},
   "outputs": [],
   "source": []
  }
 ],
 "metadata": {
  "kernelspec": {
   "display_name": "Python 3",
   "language": "python",
   "name": "python3"
  },
  "language_info": {
   "codemirror_mode": {
    "name": "ipython",
    "version": 3
   },
   "file_extension": ".py",
   "mimetype": "text/x-python",
   "name": "python",
   "nbconvert_exporter": "python",
   "pygments_lexer": "ipython3",
   "version": "3.11.0"
  }
 },
 "nbformat": 4,
 "nbformat_minor": 2
}
